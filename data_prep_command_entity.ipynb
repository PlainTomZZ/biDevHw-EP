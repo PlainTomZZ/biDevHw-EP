{
 "cells": [
  {
   "cell_type": "code",
   "execution_count": 8,
   "metadata": {},
   "outputs": [],
   "source": [
    "import pandas as pd\n",
    "import json"
   ]
  },
  {
   "cell_type": "code",
   "execution_count": 9,
   "metadata": {},
   "outputs": [],
   "source": [
    "station_name_mapping_path = r\"C:\\Users\\revital.tomchin\\Downloads\\data files bi developer hw\\station_name_mapping.csv\"\n",
    "command_entity_path = r\"C:\\Users\\revital.tomchin\\Downloads\\data files bi developer hw\\insert_data_command_entity_results.csv\"\n",
    "\n",
    "station_mapping = pd.read_csv(station_name_mapping_path)\n",
    "insert_data_commands = pd.read_csv(command_entity_path)\n",
    "insert_data_commands.drop(columns=['stationName'], inplace=True) # for test purposes will use the table provided instead of their give names"
   ]
  },
  {
   "cell_type": "code",
   "execution_count": 11,
   "metadata": {},
   "outputs": [],
   "source": [
    "merged_df = pd.merge(insert_data_commands, station_mapping, left_on='stationId', right_on='station_id', how='left')"
   ]
  },
  {
   "cell_type": "code",
   "execution_count": null,
   "metadata": {},
   "outputs": [],
   "source": [
    "merged_df.to_excel(\"insert_data_commands.xlsx\")"
   ]
  }
 ],
 "metadata": {
  "kernelspec": {
   "display_name": "Python 3",
   "language": "python",
   "name": "python3"
  },
  "language_info": {
   "codemirror_mode": {
    "name": "ipython",
    "version": 3
   },
   "file_extension": ".py",
   "mimetype": "text/x-python",
   "name": "python",
   "nbconvert_exporter": "python",
   "pygments_lexer": "ipython3",
   "version": "3.11.5"
  }
 },
 "nbformat": 4,
 "nbformat_minor": 2
}
